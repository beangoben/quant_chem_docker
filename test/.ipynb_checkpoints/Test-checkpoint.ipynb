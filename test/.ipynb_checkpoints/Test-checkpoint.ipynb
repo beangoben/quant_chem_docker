{
 "cells": [
  {
   "cell_type": "markdown",
   "metadata": {
    "toc": "true"
   },
   "source": [
    "# Table of Contents\n",
    " <p><div class=\"lev1 toc-item\"><a href=\"#RDKIT\" data-toc-modified-id=\"RDKIT-1\"><span class=\"toc-item-num\">1&nbsp;&nbsp;</span>RDKIT</a></div><div class=\"lev1 toc-item\"><a href=\"#CCLIB\" data-toc-modified-id=\"CCLIB-2\"><span class=\"toc-item-num\">2&nbsp;&nbsp;</span>CCLIB</a></div><div class=\"lev1 toc-item\"><a href=\"#Py3dmol\" data-toc-modified-id=\"Py3dmol-3\"><span class=\"toc-item-num\">3&nbsp;&nbsp;</span>Py3dmol</a></div><div class=\"lev1 toc-item\"><a href=\"#Pyquante\" data-toc-modified-id=\"Pyquante-4\"><span class=\"toc-item-num\">4&nbsp;&nbsp;</span>Pyquante</a></div>"
   ]
  },
  {
   "cell_type": "markdown",
   "metadata": {},
   "source": [
    "# RDKIT"
   ]
  },
  {
   "cell_type": "code",
   "execution_count": 1,
   "metadata": {
    "ExecuteTime": {
     "end_time": "2016-11-15T19:54:21.752210",
     "start_time": "2016-11-15T19:54:20.000165"
    },
    "collapsed": false
   },
   "outputs": [
    {
     "name": "stdout",
     "output_type": "stream",
     "text": [
      "(8, 6, 7, 5, 4, 3, 2, 12, 11, 10, 9)\n"
     ]
    },
    {
     "data": {
      "image/png": "[encoded data removed]",
      "text/plain": [
       "<rdkit.Chem.rdchem.Mol at 0x7f4bb00114b0>"
      ]
     },
     "execution_count": 1,
     "metadata": {},
     "output_type": "execute_result"
    }
   ],
   "source": [
    "from rdkit import Chem\n",
    "from rdkit.Chem import AllChem\n",
    "from rdkit.Chem import Draw\n",
    "from rdkit.Chem.Draw import IPythonConsole\n",
    "\n",
    "m = Chem.AddHs(Chem.MolFromSmiles('COc1ccc2[C@H](O)[C@@H](COc2c1)N3CCC(O)(CC3)c4ccc(F)cc4'))\n",
    "core = m.GetSubstructMatch(Chem.MolFromSmiles('C1C(O)c2ccccc2OC1'))\n",
    "print(core)\n",
    "m"
   ]
  },
  {
   "cell_type": "markdown",
   "metadata": {},
   "source": [
    "# CCLIB"
   ]
  },
  {
   "cell_type": "code",
   "execution_count": 3,
   "metadata": {
    "ExecuteTime": {
     "end_time": "2016-11-15T20:11:01.125365",
     "start_time": "2016-11-15T20:11:01.082746"
    },
    "collapsed": false
   },
   "outputs": [
    {
     "name": "stdout",
     "output_type": "stream",
     "text": [
      "[GAMESS water_mp2.out WARNING] Overwriting previous multipole moments with new values\n",
      "[GAMESS water_mp2.out WARNING] This could be from post-HF properties or geometry optimization\n"
     ]
    }
   ],
   "source": [
    "from cclib.io import ccopen\n",
    "import numpy as np\n",
    "wfn = ccopen('water_mp2.out').parse()"
   ]
  },
  {
   "cell_type": "markdown",
   "metadata": {},
   "source": [
    "# Py3dmol"
   ]
  },
  {
   "cell_type": "code",
   "execution_count": 11,
   "metadata": {
    "ExecuteTime": {
     "end_time": "2016-11-15T20:13:19.714644",
     "start_time": "2016-11-15T20:13:19.446068"
    },
    "collapsed": false,
    "scrolled": true
   },
   "outputs": [
    {
     "data": {
      "text/html": [
       "<div id=\"3dmolviewer_147924079969\"  style=\"position: relative; width: 640px; height: 480px\">\n",
       "<script>\n",
       "if(typeof $3Dmolpromise === 'undefined') $3Dmolpromise = $.when($.getScript('http://3dmol.csb.pitt.edu/build/3Dmol.js'))\n",
       "$3Dmolpromise.done(function() {\n",
       "var viewer = $3Dmol.createViewer($(\"#3dmolviewer_147924079969\"),{backgroundColor:\"white\"});\n",
       "\tviewer.addModelsAsFrames(\"\\n     RDKit          3D\\n\\n 37 41  0  0  0  0  0  0  0  0999 V2000\\n   -6.1990    4.5717   -0.6125 C   0  0  0  0  0  0  0  0  0  0  0  0\\n   -7.5475    4.5935   -0.2817 C   0  0  0  0  0  0  0  0  0  0  0  0\\n   -7.9409    3.8006    0.7436 N   0  0  0  0  0  0  0  0  0  0  0  0\\n   -7.2630    2.6445    0.9140 C   0  0  0  0  0  0  0  0  0  0  0  0\\n   -6.1603    2.3224    0.1488 C   0  0  0  0  0  0  0  0  0  0  0  0\\n   -5.5621    3.3493   -0.5618 C   0  0  0  0  0  0  0  0  0  0  0  0\\n   -5.6908    0.9655   -0.0614 C   0  0  0  0  0  0  0  0  0  0  0  0\\n   -5.3320    0.1395    0.9391 N   0  0  0  0  0  0  0  0  0  0  0  0\\n   -4.7106   -1.0284    0.7257 C   0  0  0  0  0  0  0  0  0  0  0  0\\n   -4.8944   -1.5915   -0.4900 N   0  0  0  0  0  0  0  0  0  0  0  0\\n   -5.4909   -0.9295   -1.4953 C   0  0  0  0  0  0  0  0  0  0  0  0\\n   -5.7058    0.4251   -1.3342 C   0  0  0  0  0  0  0  0  0  0  0  0\\n   -3.8138   -1.6102    1.6786 N   0  0  0  0  0  0  0  0  0  0  0  0\\n   -2.5929   -2.1641    1.1756 C   0  0  0  0  0  0  0  0  0  0  0  0\\n   -1.8722   -1.3702    0.2963 C   0  0  0  0  0  0  0  0  0  0  0  0\\n   -0.9039   -1.8826   -0.5495 C   0  0  0  0  0  0  0  0  0  0  0  0\\n   -0.6436   -3.2401   -0.4475 C   0  0  0  0  0  0  0  0  0  0  0  0\\n   -1.4335   -4.0629    0.3458 C   0  0  0  0  0  0  0  0  0  0  0  0\\n   -2.5753   -3.5320    0.9329 C   0  0  0  0  0  0  0  0  0  0  0  0\\n   -3.7605   -4.3954    1.2281 C   0  0  0  0  0  0  0  0  0  0  0  0\\n    0.0837   -0.9466   -0.9949 N   0  0  0  0  0  0  0  0  0  0  0  0\\n    1.4251   -1.3486   -1.1777 C   0  0  0  0  0  0  0  0  0  0  0  0\\n    1.6510   -2.5734   -1.3724 O   0  0  0  0  0  0  0  0  0  0  0  0\\n    2.5728   -0.5524   -0.7241 C   0  0  0  0  0  0  0  0  0  0  0  0\\n    2.9344   -0.4826    0.6151 C   0  0  0  0  0  0  0  0  0  0  0  0\\n    4.2635   -0.4304    1.0161 C   0  0  0  0  0  0  0  0  0  0  0  0\\n    5.2619   -0.5270    0.0576 C   0  0  0  0  0  0  0  0  0  0  0  0\\n    4.9027   -0.1191   -1.2211 C   0  0  0  0  0  0  0  0  0  0  0  0\\n    3.5801   -0.2365   -1.6286 C   0  0  0  0  0  0  0  0  0  0  0  0\\n    6.6626   -0.8674    0.3752 C   0  0  0  0  0  0  0  0  0  0  0  0\\n    7.4418    0.3545    0.1912 N   0  0  0  0  0  0  0  0  0  0  0  0\\n    6.7423    1.3891    0.9431 C   0  0  0  0  0  0  0  0  0  0  0  0\\n    7.2425    2.7319    0.4701 C   0  0  0  0  0  0  0  0  0  0  0  0\\n    8.6077    2.5707    0.0381 N   0  0  0  0  0  0  0  0  0  0  0  0\\n    9.3327    1.6332    0.8675 C   0  0  0  0  0  0  0  0  0  0  0  0\\n    8.7893    0.2239    0.6833 C   0  0  0  0  0  0  0  0  0  0  0  0\\n    8.5988    2.1756   -1.3653 C   0  0  0  0  0  0  0  0  0  0  0  0\\n  1  2  2  0\\n  2  3  1  0\\n  3  4  2  0\\n  4  5  1  0\\n  5  6  2  0\\n  5  7  1  0\\n  7  8  2  0\\n  8  9  1  0\\n  9 10  2  0\\n 10 11  1  0\\n 11 12  2  0\\n  9 13  1  0\\n 13 14  1  0\\n 14 15  2  0\\n 15 16  1  0\\n 16 17  2  0\\n 17 18  1  0\\n 18 19  2  0\\n 19 20  1  0\\n 16 21  1  0\\n 21 22  1  0\\n 22 23  2  0\\n 22 24  1  0\\n 24 25  2  0\\n 25 26  1  0\\n 26 27  2  0\\n 27 28  1  0\\n 28 29  2  0\\n 27 30  1  0\\n 30 31  1  0\\n 31 32  1  0\\n 32 33  1  0\\n 33 34  1  0\\n 34 35  1  0\\n 35 36  1  0\\n 34 37  1  0\\n  6  1  1  0\\n 12  7  1  0\\n 19 14  1  0\\n 29 24  1  0\\n 36 31  1  0\\nM  END\\n$$$$\\n\\n     RDKit          3D\\n\\n 37 41  0  0  0  0  0  0  0  0999 V2000\\n   -6.2156    4.5634   -0.6999 C   0  0  0  0  0  0  0  0  0  0  0  0\\n   -7.5283    4.6687   -0.2005 C   0  0  0  0  0  0  0  0  0  0  0  0\\n   -7.9578    3.7714    0.6916 N   0  0  0  0  0  0  0  0  0  0  0  0\\n   -7.2866    2.6030    0.9577 C   0  0  0  0  0  0  0  0  0  0  0  0\\n   -6.1403    2.3335    0.1371 C   0  0  0  0  0  0  0  0  0  0  0  0\\n   -5.5442    3.3555   -0.5398 C   0  0  0  0  0  0  0  0  0  0  0  0\\n   -5.6941    0.9279   -0.0760 C   0  0  0  0  0  0  0  0  0  0  0  0\\n   -5.2940    0.1956    1.0246 N   0  0  0  0  0  0  0  0  0  0  0  0\\n   -4.7482   -1.0396    0.6926 C   0  0  0  0  0  0  0  0  0  0  0  0\\n   -4.8834   -1.6356   -0.4833 N   0  0  0  0  0  0  0  0  0  0  0  0\\n   -5.4513   -0.9162   -1.5143 C   0  0  0  0  0  0  0  0  0  0  0  0\\n   -5.7559    0.4385   -1.3568 C   0  0  0  0  0  0  0  0  0  0  0  0\\n   -3.8133   -1.5972    1.6827 N   0  0  0  0  0  0  0  0  0  0  0  0\\n   -2.6629   -2.1675    1.1463 C   0  0  0  0  0  0  0  0  0  0  0  0\\n   -1.8548   -1.3449    0.3035 C   0  0  0  0  0  0  0  0  0  0  0  0\\n   -0.9071   -1.8592   -0.5201 C   0  0  0  0  0  0  0  0  0  0  0  0\\n   -0.6283   -3.2570   -0.4342 C   0  0  0  0  0  0  0  0  0  0  0  0\\n   -1.4623   -4.0895    0.3095 C   0  0  0  0  0  0  0  0  0  0  0  0\\n   -2.5480   -3.5356    0.9611 C   0  0  0  0  0  0  0  0  0  0  0  0\\n   -3.7504   -4.4021    1.2382 C   0  0  0  0  0  0  0  0  0  0  0  0\\n    0.0780   -0.9378   -0.9999 N   0  0  0  0  0  0  0  0  0  0  0  0\\n    1.4454   -1.3785   -1.1580 C   0  0  0  0  0  0  0  0  0  0  0  0\\n    1.6753   -2.5658   -1.3973 O   0  0  0  0  0  0  0  0  0  0  0  0\\n    2.5914   -0.5288   -0.7380 C   0  0  0  0  0  0  0  0  0  0  0  0\\n    2.8970   -0.4963    0.6418 C   0  0  0  0  0  0  0  0  0  0  0  0\\n    4.2730   -0.4624    1.0369 C   0  0  0  0  0  0  0  0  0  0  0  0\\n    5.2073   -0.5347    0.0315 C   0  0  0  0  0  0  0  0  0  0  0  0\\n    4.9237   -0.1570   -1.2494 C   0  0  0  0  0  0  0  0  0  0  0  0\\n    3.5666   -0.2297   -1.6538 C   0  0  0  0  0  0  0  0  0  0  0  0\\n    6.6856   -0.8413    0.3846 C   0  0  0  0  0  0  0  0  0  0  0  0\\n    7.3883    0.3113    0.1938 N   0  0  0  0  0  0  0  0  0  0  0  0\\n    6.7416    1.4260    0.9670 C   0  0  0  0  0  0  0  0  0  0  0  0\\n    7.2312    2.7255    0.4809 C   0  0  0  0  0  0  0  0  0  0  0  0\\n    8.6322    2.6342    0.0139 N   0  0  0  0  0  0  0  0  0  0  0  0\\n    9.3827    1.6171    0.8724 C   0  0  0  0  0  0  0  0  0  0  0  0\\n    8.7935    0.2156    0.7021 C   0  0  0  0  0  0  0  0  0  0  0  0\\n    8.6140    2.1893   -1.3807 C   0  0  0  0  0  0  0  0  0  0  0  0\\n  1  2  2  0\\n  2  3  1  0\\n  3  4  2  0\\n  4  5  1  0\\n  5  6  2  0\\n  5  7  1  0\\n  7  8  2  0\\n  8  9  1  0\\n  9 10  2  0\\n 10 11  1  0\\n 11 12  2  0\\n  9 13  1  0\\n 13 14  1  0\\n 14 15  2  0\\n 15 16  1  0\\n 16 17  2  0\\n 17 18  1  0\\n 18 19  2  0\\n 19 20  1  0\\n 16 21  1  0\\n 21 22  1  0\\n 22 23  2  0\\n 22 24  1  0\\n 24 25  2  0\\n 25 26  1  0\\n 26 27  2  0\\n 27 28  1  0\\n 28 29  2  0\\n 27 30  1  0\\n 30 31  1  0\\n 31 32  1  0\\n 32 33  1  0\\n 33 34  1  0\\n 34 35  1  0\\n 35 36  1  0\\n 34 37  1  0\\n  6  1  1  0\\n 12  7  1  0\\n 19 14  1  0\\n 29 24  1  0\\n 36 31  1  0\\nM  END\\n$$$$\\n\\n     RDKit          3D\\n\\n 37 41  0  0  0  0  0  0  0  0999 V2000\\n   -6.2221    4.5609   -0.7051 C   0  0  0  0  0  0  0  0  0  0  0  0\\n   -7.5168    4.6806   -0.1975 C   0  0  0  0  0  0  0  0  0  0  0  0\\n   -7.9646    3.7597    0.7001 N   0  0  0  0  0  0  0  0  0  0  0  0\\n   -7.2824    2.6076    0.9407 C   0  0  0  0  0  0  0  0  0  0  0  0\\n   -6.1467    2.3203    0.1515 C   0  0  0  0  0  0  0  0  0  0  0  0\\n   -5.5414    3.3613   -0.5470 C   0  0  0  0  0  0  0  0  0  0  0  0\\n   -5.6987    0.9489   -0.0555 C   0  0  0  0  0  0  0  0  0  0  0  0\\n   -5.2890    0.1838    0.9890 N   0  0  0  0  0  0  0  0  0  0  0  0\\n   -4.7367   -1.0347    0.7435 C   0  0  0  0  0  0  0  0  0  0  0  0\\n   -4.8950   -1.6251   -0.5036 N   0  0  0  0  0  0  0  0  0  0  0  0\\n   -5.4428   -0.9200   -1.5138 C   0  0  0  0  0  0  0  0  0  0  0  0\\n   -5.7588    0.4258   -1.3568 C   0  0  0  0  0  0  0  0  0  0  0  0\\n   -3.8318   -1.5941    1.6724 N   0  0  0  0  0  0  0  0  0  0  0  0\\n   -2.6477   -2.1638    1.1300 C   0  0  0  0  0  0  0  0  0  0  0  0\\n   -1.8650   -1.3432    0.3139 C   0  0  0  0  0  0  0  0  0  0  0  0\\n   -0.8958   -1.8648   -0.5171 C   0  0  0  0  0  0  0  0  0  0  0  0\\n   -0.6329   -3.2525   -0.4324 C   0  0  0  0  0  0  0  0  0  0  0  0\\n   -1.4629   -4.0903    0.3029 C   0  0  0  0  0  0  0  0  0  0  0  0\\n   -2.5586   -3.5427    0.9691 C   0  0  0  0  0  0  0  0  0  0  0  0\\n   -3.7453   -4.4030    1.2407 C   0  0  0  0  0  0  0  0  0  0  0  0\\n    0.0847   -0.9418   -1.0007 N   0  0  0  0  0  0  0  0  0  0  0  0\\n    1.4432   -1.3627   -1.1534 C   0  0  0  0  0  0  0  0  0  0  0  0\\n    1.6819   -2.5749   -1.4041 O   0  0  0  0  0  0  0  0  0  0  0  0\\n    2.5794   -0.5316   -0.7317 C   0  0  0  0  0  0  0  0  0  0  0  0\\n    2.9060   -0.4972    0.6413 C   0  0  0  0  0  0  0  0  0  0  0  0\\n    4.2559   -0.4683    1.0345 C   0  0  0  0  0  0  0  0  0  0  0  0\\n    5.2315   -0.5397    0.0384 C   0  0  0  0  0  0  0  0  0  0  0  0\\n    4.9094   -0.1639   -1.2590 C   0  0  0  0  0  0  0  0  0  0  0  0\\n    3.5773   -0.2278   -1.6589 C   0  0  0  0  0  0  0  0  0  0  0  0\\n    6.6611   -0.8552    0.3888 C   0  0  0  0  0  0  0  0  0  0  0  0\\n    7.4077    0.3441    0.2014 N   0  0  0  0  0  0  0  0  0  0  0  0\\n    6.7405    1.4123    0.9680 C   0  0  0  0  0  0  0  0  0  0  0  0\\n    7.2391    2.7345    0.4752 C   0  0  0  0  0  0  0  0  0  0  0  0\\n    8.6374    2.6248    0.0248 N   0  0  0  0  0  0  0  0  0  0  0  0\\n    9.3807    1.6290    0.8601 C   0  0  0  0  0  0  0  0  0  0  0  0\\n    8.7825    0.2104    0.7000 C   0  0  0  0  0  0  0  0  0  0  0  0\\n    8.6164    2.1933   -1.3819 C   0  0  0  0  0  0  0  0  0  0  0  0\\n  1  2  2  0\\n  2  3  1  0\\n  3  4  2  0\\n  4  5  1  0\\n  5  6  2  0\\n  5  7  1  0\\n  7  8  2  0\\n  8  9  1  0\\n  9 10  2  0\\n 10 11  1  0\\n 11 12  2  0\\n  9 13  1  0\\n 13 14  1  0\\n 14 15  2  0\\n 15 16  1  0\\n 16 17  2  0\\n 17 18  1  0\\n 18 19  2  0\\n 19 20  1  0\\n 16 21  1  0\\n 21 22  1  0\\n 22 23  2  0\\n 22 24  1  0\\n 24 25  2  0\\n 25 26  1  0\\n 26 27  2  0"
      ],
      "text/plain": [
       "<IPython.core.display.HTML object>"
      ]
     },
     "execution_count": 11,
     "metadata": {},
     "output_type": "execute_result"
    }
   ],
   "source": [
    "from rdkit import Chem\n",
    "from rdkit.Chem import AllChem\n",
    "import py3Dmol\n",
    "m = Chem.MolFromSmiles('c1cncc(c1)c1nc(ncc1)Nc1cc(ccc1C)NC(=O)c1ccc(cc1)CN1CCN(CC1)C')\n",
    "Chem.SanitizeMol(m)\n",
    "AllChem.EmbedMultipleConfs(m, 1)\n",
    "sdf = Chem.MolToMolBlock(m)+'$$$$\\n'\n",
    "for i in xrange(100):\n",
    "    AllChem.UFFOptimizeMolecule(m,1)\n",
    "    sdf += Chem.MolToMolBlock(m)+'$$$$\\n'\n",
    "view = py3Dmol.view()\n",
    "view.addModelsAsFrames(sdf,'sdf')\n",
    "view.setStyle({'stick':{}})\n",
    "view.zoomTo()\n",
    "view.animate()\n",
    "view.show()"
   ]
  },
  {
   "cell_type": "markdown",
   "metadata": {
    "collapsed": true
   },
   "source": [
    "# Pyquante"
   ]
  },
  {
   "cell_type": "code",
   "execution_count": 6,
   "metadata": {
    "ExecuteTime": {
     "end_time": "2016-11-15T20:11:37.727238",
     "start_time": "2016-11-15T20:11:37.577364"
    },
    "collapsed": false
   },
   "outputs": [
    {
     "name": "stdout",
     "output_type": "stream",
     "text": [
      "HF Energy =  -1.13128440312\n"
     ]
    }
   ],
   "source": [
    "from PyQuante.Molecule import Molecule\n",
    "from PyQuante.hartree_fock import rhf\n",
    "h2 = Molecule('h2',[(1,(0,0,0)),(1,(1.4,0,0))])\n",
    "en,orbe,orbs = rhf(h2)\n",
    "print \"HF Energy = \",en"
   ]
  },
  {
   "cell_type": "code",
   "execution_count": null,
   "metadata": {
    "collapsed": true
   },
   "outputs": [],
   "source": []
  }
 ],
 "metadata": {
  "kernelspec": {
   "display_name": "Python 2",
   "language": "python",
   "name": "python2"
  },
  "language_info": {
   "codemirror_mode": {
    "name": "ipython",
    "version": 2
   },
   "file_extension": ".py",
   "mimetype": "text/x-python",
   "name": "python",
   "nbconvert_exporter": "python",
   "pygments_lexer": "ipython2",
   "version": "2.7.12"
  },
  "toc": {
   "nav_menu": {
    "height": "138px",
    "width": "252px"
   },
   "navigate_menu": true,
   "number_sections": true,
   "sideBar": true,
   "threshold": 4,
   "toc_cell": true,
   "toc_section_display": "block",
   "toc_window_display": false
  }
 },
 "nbformat": 4,
 "nbformat_minor": 0
}
